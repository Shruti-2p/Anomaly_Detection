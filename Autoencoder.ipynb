{
  "nbformat": 4,
  "nbformat_minor": 0,
  "metadata": {
    "colab": {
      "provenance": []
    },
    "kernelspec": {
      "name": "python3",
      "display_name": "Python 3"
    },
    "language_info": {
      "name": "python"
    }
  },
  "cells": [
    {
      "cell_type": "code",
      "source": [
        "from google.colab import drive\n",
        "drive.mount('/content/drive')\n",
        "\n",
        "import os\n",
        "\n",
        "data_dir = '/content/drive/My Drive/anamoly_detection/carpet'\n",
        "if os.path.exists(data_dir):\n",
        "    print(\"Path exists!\")\n",
        "else:\n",
        "    print(\"Path does not exist. Check your directory path.\")\n"
      ],
      "metadata": {
        "colab": {
          "base_uri": "https://localhost:8080/"
        },
        "id": "4RgvViRA7Jdn",
        "outputId": "8f8707da-a448-4f46-d516-9fbd016ec417"
      },
      "execution_count": 3,
      "outputs": [
        {
          "output_type": "stream",
          "name": "stdout",
          "text": [
            "Mounted at /content/drive\n",
            "Path exists!\n"
          ]
        }
      ]
    },
    {
      "cell_type": "code",
      "execution_count": 4,
      "metadata": {
        "id": "FDF9K3pf4UEo"
      },
      "outputs": [],
      "source": [
        "from torchvision.transforms import transforms\n",
        "transform = transforms.Compose([\n",
        "    transforms.Resize((224,224)),  # Resize the image to 224x224 pixels\n",
        "    transforms.ToTensor()          # Convert the image to a PyTorch tensor and divide by 255.0\n",
        "])"
      ]
    },
    {
      "cell_type": "code",
      "source": [
        "from PIL import Image\n",
        "image_path = '/content/drive/My Drive/anamoly_detection/carpet/test/hole/000.png'\n",
        "image = Image.open(image_path)\n",
        "print(image.size)"
      ],
      "metadata": {
        "colab": {
          "base_uri": "https://localhost:8080/"
        },
        "id": "phxr8zG94cwK",
        "outputId": "41de2bc5-4d5a-455e-b4aa-286379c61068"
      },
      "execution_count": 5,
      "outputs": [
        {
          "output_type": "stream",
          "name": "stdout",
          "text": [
            "(1024, 1024)\n"
          ]
        }
      ]
    },
    {
      "cell_type": "code",
      "source": [
        "image = transform(image)\n",
        "print(image.shape)"
      ],
      "metadata": {
        "colab": {
          "base_uri": "https://localhost:8080/"
        },
        "id": "LbkDXKlX49l6",
        "outputId": "697e7788-9d67-43a2-a138-a26a8e9a06b0"
      },
      "execution_count": 6,
      "outputs": [
        {
          "output_type": "stream",
          "name": "stdout",
          "text": [
            "torch.Size([3, 224, 224])\n"
          ]
        }
      ]
    },
    {
      "cell_type": "code",
      "source": [
        "from torchvision.datasets import ImageFolder\n",
        "\n",
        "train_image_path = '/content/drive/My Drive/anamoly_detection/carpet/train'\n",
        "good_dataset = ImageFolder(root=train_image_path, transform=transform)\n",
        "x, y = good_dataset[0]\n",
        "print(\"Image Shape:\", x.shape)\n",
        "print(\"Label:\", y)\n"
      ],
      "metadata": {
        "colab": {
          "base_uri": "https://localhost:8080/"
        },
        "id": "f8co-PcM5JPv",
        "outputId": "b6863a90-b15a-4bb4-d014-035fe3856e88"
      },
      "execution_count": 7,
      "outputs": [
        {
          "output_type": "stream",
          "name": "stdout",
          "text": [
            "Image Shape: torch.Size([3, 224, 224])\n",
            "Label: 0\n"
          ]
        }
      ]
    },
    {
      "cell_type": "code",
      "source": [
        "import torch\n",
        "\n",
        "train_dataset, test_dataset = torch.utils.data.random_split(good_dataset, [0.8, 0.2])\n",
        "print(\"Total number of samples in the original dataset:\", len(good_dataset))\n",
        "print(\"Number of samples in the training subset:\", len(train_dataset))\n",
        "print(\"Number of samples in the testing subset:\", len(test_dataset))\n"
      ],
      "metadata": {
        "colab": {
          "base_uri": "https://localhost:8080/"
        },
        "id": "R0geDcES5eO0",
        "outputId": "a7f929b6-33a2-4d04-8009-415dc90178c3"
      },
      "execution_count": 8,
      "outputs": [
        {
          "output_type": "stream",
          "name": "stdout",
          "text": [
            "Total number of samples in the original dataset: 280\n",
            "Number of samples in the training subset: 224\n",
            "Number of samples in the testing subset: 56\n"
          ]
        }
      ]
    },
    {
      "cell_type": "code",
      "source": [
        "import torch\n",
        "from torch.utils.data import DataLoader\n",
        "\n",
        "BS = 16\n",
        "\n",
        "train_loader = DataLoader(train_dataset, batch_size=BS, shuffle=True)\n",
        "test_loader = DataLoader(test_dataset, batch_size=BS, shuffle=False)\n",
        "\n",
        "image_batch, label_batch = next(iter(train_loader))\n",
        "print(\"Image batch shape:\", image_batch.shape)\n",
        "print(\"Label batch shape:\", label_batch.shape)\n"
      ],
      "metadata": {
        "colab": {
          "base_uri": "https://localhost:8080/"
        },
        "id": "C-wZz4pE7aEa",
        "outputId": "f0505b86-7228-4926-a665-8913a548ec75"
      },
      "execution_count": 9,
      "outputs": [
        {
          "output_type": "stream",
          "name": "stdout",
          "text": [
            "Image batch shape: torch.Size([16, 3, 224, 224])\n",
            "Label batch shape: torch.Size([16])\n"
          ]
        }
      ]
    },
    {
      "cell_type": "code",
      "source": [
        "device = torch.device(\"cuda\" if torch.cuda.is_available() else \"cpu\")"
      ],
      "metadata": {
        "id": "q9h6har4oxUm"
      },
      "execution_count": 12,
      "outputs": []
    },
    {
      "cell_type": "code",
      "source": [
        "import torch\n",
        "import torch.nn as nn\n",
        "import torch.optim as optim\n",
        "\n",
        "# Define the Autoencoder model\n",
        "class Autoencoder(nn.Module):\n",
        "    def __init__(self):\n",
        "        super(Autoencoder, self).__init__()\n",
        "        self.encoder = nn.Sequential(\n",
        "            nn.Conv2d(3, 128, kernel_size=4),\n",
        "            nn.ReLU(),\n",
        "            nn.AvgPool2d(kernel_size=2, stride=2),\n",
        "            nn.Conv2d(128, 256, kernel_size=4),\n",
        "            nn.ReLU(),\n",
        "            nn.AvgPool2d(kernel_size=2, stride=2),\n",
        "            nn.Conv2d(256, 256, kernel_size=3),\n",
        "            nn.ReLU(),\n",
        "            nn.AvgPool2d(kernel_size=2, stride=2),\n",
        "        )\n",
        "        self.decoder = nn.Sequential(\n",
        "            nn.ConvTranspose2d(256, 256, kernel_size=4, stride=2, output_padding=1 ),\n",
        "            nn.ReLU(),\n",
        "            nn.ConvTranspose2d(256, 128, kernel_size=5, stride=2, output_padding=1),\n",
        "            nn.ReLU(),\n",
        "            nn.ConvTranspose2d(128, 3, kernel_size=5, stride=2, output_padding=1),\n",
        "            nn.Sigmoid()\n",
        "        )\n",
        "\n",
        "    def forward(self, x):\n",
        "        x = self.encoder(x)\n",
        "        x = self.decoder(x)\n",
        "        return x\n",
        "device = torch.device(\"cuda\" if torch.cuda.is_available() else \"cpu\")\n",
        "\n",
        "model = Autoencoder() # Run on CPU instead\n",
        "input_image = torch.randn(1, 3, 233, 233)  # Sample input image\n",
        "output_image = model(input_image)\n",
        "criterion = nn.MSELoss()\n",
        "optimizer = optim.Adam(model.parameters(), lr=0.001)\n",
        "\n",
        "#traning\n",
        "from tqdm import tqdm\n",
        "Loss = []\n",
        "Validation_Loss = []\n",
        "\n",
        "\n",
        "num_epochs = 10\n",
        "for epoch in tqdm(range(num_epochs)):\n",
        "    model.train()  # Set model to training mode\n",
        "    for img, _ in train_loader:\n",
        "        img = img.to(device)\n",
        "\n",
        "        output = model(img)\n",
        "        loss = criterion(output, img)\n",
        "\n",
        "        optimizer.zero_grad() #clears the gradients of all optimized tensors.  This step is necessary because gradients are accumulated by default in PyTorch, and we want to compute fresh gradients for the current batch of data.\n",
        "        loss.backward() # This line computes the gradients of the loss function with respect to the model parameters. These gradients are used to update the model parameters during optimization.\n",
        "        optimizer.step() # This line updates the model parameters using the computed gradients.\n",
        "    Loss.append(loss.item())\n",
        " # Validation loop (with individual images)\n",
        "     # Calculate validation loss\n",
        "    model.eval()  # Set model to evaluation mode\n",
        "    with torch.no_grad():\n",
        "        val_loss_sum = 0.0\n",
        "        num_batches = 0\n",
        "        for img, _ in test_loader:\n",
        "            img = img.to(device)\n",
        "            output = model(img)\n",
        "            val_loss = criterion(output, img)\n",
        "            val_loss_sum += val_loss.item()\n",
        "            num_batches += 1\n",
        "        val_loss_avg = val_loss_sum / num_batches\n",
        "        Validation_Loss.append(val_loss_avg)\n",
        "\n",
        "    if epoch % 2 == 0:\n",
        "        print('Epoch [{}/{}], Loss: {:.4f}, Validation Loss: {:.4f}'.format(epoch + 1, num_epochs, loss.item(), val_loss_avg))\n",
        "\n"
      ],
      "metadata": {
        "colab": {
          "base_uri": "https://localhost:8080/"
        },
        "id": "xWt2h1t6F5SE",
        "outputId": "674bafac-a412-4f06-d5c2-f92fded636f1"
      },
      "execution_count": 14,
      "outputs": [
        {
          "output_type": "stream",
          "name": "stderr",
          "text": [
            " 10%|█         | 1/10 [07:50<1:10:30, 470.06s/it]"
          ]
        },
        {
          "output_type": "stream",
          "name": "stdout",
          "text": [
            "Epoch [1/10], Loss: 0.0152, Validation Loss: 0.0157\n"
          ]
        },
        {
          "output_type": "stream",
          "name": "stderr",
          "text": [
            " 30%|███       | 3/10 [23:31<54:51, 470.17s/it]  "
          ]
        },
        {
          "output_type": "stream",
          "name": "stdout",
          "text": [
            "Epoch [3/10], Loss: 0.0130, Validation Loss: 0.0131\n"
          ]
        },
        {
          "output_type": "stream",
          "name": "stderr",
          "text": [
            " 50%|█████     | 5/10 [39:19<39:22, 472.52s/it]"
          ]
        },
        {
          "output_type": "stream",
          "name": "stdout",
          "text": [
            "Epoch [5/10], Loss: 0.0128, Validation Loss: 0.0128\n"
          ]
        },
        {
          "output_type": "stream",
          "name": "stderr",
          "text": [
            " 70%|███████   | 7/10 [54:56<23:31, 470.41s/it]"
          ]
        },
        {
          "output_type": "stream",
          "name": "stdout",
          "text": [
            "Epoch [7/10], Loss: 0.0128, Validation Loss: 0.0125\n"
          ]
        },
        {
          "output_type": "stream",
          "name": "stderr",
          "text": [
            " 90%|█████████ | 9/10 [1:10:34<07:49, 469.65s/it]"
          ]
        },
        {
          "output_type": "stream",
          "name": "stdout",
          "text": [
            "Epoch [9/10], Loss: 0.0124, Validation Loss: 0.0120\n"
          ]
        },
        {
          "output_type": "stream",
          "name": "stderr",
          "text": [
            "100%|██████████| 10/10 [1:18:20<00:00, 470.05s/it]\n"
          ]
        }
      ]
    },
    {
      "cell_type": "code",
      "source": [
        "# Save the model\n",
        "torch.save(model.state_dict(), 'carpet_autoencoder.pth')\n",
        "model.eval()\n",
        "\n",
        "ckpoints = torch.load(\"carpet_autoencoder.pth\")\n",
        "model.load_state_dict(ckpoints)\n",
        "#model_save_path = f\"{category}_autoencoder.pth"
      ],
      "metadata": {
        "id": "uE045bdLo2MD",
        "outputId": "2eb87c8d-5902-426f-cf13-f39fba0b7709",
        "colab": {
          "base_uri": "https://localhost:8080/"
        }
      },
      "execution_count": 15,
      "outputs": [
        {
          "output_type": "stream",
          "name": "stderr",
          "text": [
            "<ipython-input-15-f7fc0395c992>:5: FutureWarning: You are using `torch.load` with `weights_only=False` (the current default value), which uses the default pickle module implicitly. It is possible to construct malicious pickle data which will execute arbitrary code during unpickling (See https://github.com/pytorch/pytorch/blob/main/SECURITY.md#untrusted-models for more details). In a future release, the default value for `weights_only` will be flipped to `True`. This limits the functions that could be executed during unpickling. Arbitrary objects will no longer be allowed to be loaded via this mode unless they are explicitly allowlisted by the user via `torch.serialization.add_safe_globals`. We recommend you start setting `weights_only=True` for any use case where you don't have full control of the loaded file. Please open an issue on GitHub for any issues related to this experimental feature.\n",
            "  ckpoints = torch.load(\"carpet_autoencoder.pth\")\n"
          ]
        },
        {
          "output_type": "execute_result",
          "data": {
            "text/plain": [
              "<All keys matched successfully>"
            ]
          },
          "metadata": {},
          "execution_count": 15
        }
      ]
    },
    {
      "cell_type": "code",
      "source": [
        "import numpy as np\n"
      ],
      "metadata": {
        "id": "Gx0PcfTlWLd-"
      },
      "execution_count": 16,
      "outputs": []
    },
    {
      "cell_type": "code",
      "source": [
        "RECON_ERROR=[]\n",
        "with torch.no_grad():\n",
        "    for data, _ in train_loader:\n",
        "        data = data.to(device)\n",
        "        recon = model(data)\n",
        "        data_recon_squared_mean =  ((data-recon)**2).mean(axis=(1))[:,0:-10,0:-10].mean(axis=(1,2))\n",
        "\n",
        "        RECON_ERROR.append(data_recon_squared_mean)\n",
        "\n",
        "RECON_ERROR = torch.cat(RECON_ERROR).cpu().numpy()\n"
      ],
      "metadata": {
        "id": "pgK5uTBEf0V8"
      },
      "execution_count": 17,
      "outputs": []
    },
    {
      "cell_type": "code",
      "source": [
        "best_threshold = np.mean(RECON_ERROR) + 3 * np.std(RECON_ERROR)"
      ],
      "metadata": {
        "id": "KUe-rDEEbJgG"
      },
      "execution_count": 18,
      "outputs": []
    },
    {
      "cell_type": "code",
      "source": [
        "from pathlib import Path\n",
        "y_true=[]\n",
        "y_pred=[]\n",
        "y_score=[]\n",
        "\n",
        "model.eval()\n",
        "\n",
        "with torch.no_grad():\n",
        "\n",
        "    test_path = Path('/content/drive/My Drive/anamoly_detection/carpet/test')\n",
        "\n",
        "    for path in test_path.glob('*/*.png'):\n",
        "        fault_type = path.parts[-2]\n",
        "        # if fault_type != 'good':\n",
        "        test_image = transform(Image.open(path)).to(device).unsqueeze(0)\n",
        "        recon_image = model(test_image)\n",
        "\n",
        "        # y_score_image =\n",
        "        y_score_image =  ((test_image - recon_image)**2).mean(axis=(1))[:,0:-10,0:-10].mean()\n",
        "\n",
        "        y_pred_image = 1*(y_score_image >= best_threshold)\n",
        "\n",
        "        y_true_image = 0 if fault_type == 'good' else 1\n",
        "\n",
        "        y_true.append(y_true_image)\n",
        "        y_pred.append(y_pred_image.cpu())\n",
        "        y_score.append(y_score_image.cpu())\n",
        "\n",
        "    y_true = np.array(y_true)\n",
        "    y_pred = np.array(y_pred)\n",
        "    y_score = np.array(y_score)"
      ],
      "metadata": {
        "id": "0Y8loyIceOVV"
      },
      "execution_count": 19,
      "outputs": []
    },
    {
      "cell_type": "code",
      "source": [
        "import numpy as np\n",
        "import matplotlib.pyplot as plt\n",
        "from sklearn.metrics import roc_auc_score, roc_curve, confusion_matrix, ConfusionMatrixDisplay, f1_score\n",
        "import seaborn as sns\n",
        "\n",
        "\n",
        "\n",
        "# Calculate AUC-ROC score\n",
        "auc_roc_score = roc_auc_score(y_true, y_score)\n",
        "print(\"AUC-ROC Score:\", auc_roc_score)\n",
        "\n",
        "# Plot ROC curve\n",
        "fpr, tpr, thresholds = roc_curve(y_true, y_score)\n",
        "plt.figure()\n",
        "plt.plot(fpr, tpr, color='darkorange', lw=2, label='ROC curve (area = %0.2f)' % auc_roc_score)\n",
        "plt.plot([0, 1], [0, 1], color='navy', lw=2, linestyle='--')\n",
        "plt.xlabel('False Positive Rate')\n",
        "plt.ylabel('True Positive Rate')\n",
        "plt.title('Receiver Operating Characteristic (ROC) Curve')\n",
        "plt.legend(loc=\"lower right\")\n",
        "plt.show()\n",
        "\n"
      ],
      "metadata": {
        "id": "VnwvxkjwZCqb",
        "outputId": "04893c4b-9cd1-4473-b39e-59e474d28d8c",
        "colab": {
          "base_uri": "https://localhost:8080/",
          "height": 489
        }
      },
      "execution_count": 20,
      "outputs": [
        {
          "output_type": "stream",
          "name": "stdout",
          "text": [
            "AUC-ROC Score: 0.3358747993579454\n"
          ]
        },
        {
          "output_type": "display_data",
          "data": {
            "text/plain": [
              "<Figure size 640x480 with 1 Axes>"
            ],
            "image/png": "[encoded data removed]"
          },
          "metadata": {}
        }
      ]
    },
    {
      "cell_type": "code",
      "source": [],
      "metadata": {
        "id": "6wp0BDvAZcxy"
      },
      "execution_count": null,
      "outputs": []
    }
  ]
}